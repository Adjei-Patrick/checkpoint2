{
 "cells": [
  {
   "cell_type": "code",
   "execution_count": 8,
   "id": "03b89c13",
   "metadata": {},
   "outputs": [
    {
     "name": "stdout",
     "output_type": "stream",
     "text": [
      "veillez saisir un nombre entier :5\n",
      "factoriel de 5 est 5x4x3x2x1 = 120\n"
     ]
    }
   ],
   "source": [
    "#Écrire un programme capable de calculer la factorielle d'un nombre donné\n",
    "n = int(input(\"veillez saisir un nombre entier :\"))\n",
    "x = 1\n",
    "texte = \"\"\n",
    "for i in range(n):\n",
    "    x = x * (n-i)\n",
    "    if (i == 0):\n",
    "        texte = texte + str(n-i)\n",
    "    else :\n",
    "        texte = texte + \"x\" + str(n-i)\n",
    "print (\"factoriel de {} est {} = {}\".format(n,texte,x))\n"
   ]
  },
  {
   "cell_type": "code",
   "execution_count": null,
   "id": "bfdad4d8",
   "metadata": {},
   "outputs": [],
   "source": []
  }
 ],
 "metadata": {
  "kernelspec": {
   "display_name": "Python 3 (ipykernel)",
   "language": "python",
   "name": "python3"
  },
  "language_info": {
   "codemirror_mode": {
    "name": "ipython",
    "version": 3
   },
   "file_extension": ".py",
   "mimetype": "text/x-python",
   "name": "python",
   "nbconvert_exporter": "python",
   "pygments_lexer": "ipython3",
   "version": "3.9.7"
  }
 },
 "nbformat": 4,
 "nbformat_minor": 5
}
