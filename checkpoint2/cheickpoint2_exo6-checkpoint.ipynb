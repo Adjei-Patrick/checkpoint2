{
 "cells": [
  {
   "cell_type": "code",
   "execution_count": 36,
   "id": "ef300632",
   "metadata": {},
   "outputs": [
    {
     "name": "stdout",
     "output_type": "stream",
     "text": [
      "veillez saisir une chaine de caractère : maman\n",
      "les caractères pairs de maman sont : mmn \n"
     ]
    }
   ],
   "source": [
    "#écrire un programme qui permet de supprimer les caractère impairs\n",
    "l = input(\"veillez saisir une chaine de caractère : \",) \n",
    "p = \"\"\n",
    "for i in range(len(l)):\n",
    "    if (i % 2 == 0) :\n",
    "        p = p + l[i]\n",
    "print(\"les caractères pairs de {} sont : {} \".format(l, p))\n",
    "    "
   ]
  },
  {
   "cell_type": "code",
   "execution_count": null,
   "id": "f18226fa",
   "metadata": {},
   "outputs": [],
   "source": []
  }
 ],
 "metadata": {
  "kernelspec": {
   "display_name": "Python 3 (ipykernel)",
   "language": "python",
   "name": "python3"
  },
  "language_info": {
   "codemirror_mode": {
    "name": "ipython",
    "version": 3
   },
   "file_extension": ".py",
   "mimetype": "text/x-python",
   "name": "python",
   "nbconvert_exporter": "python",
   "pygments_lexer": "ipython3",
   "version": "3.9.7"
  }
 },
 "nbformat": 4,
 "nbformat_minor": 5
}
