{
 "cells": [
  {
   "cell_type": "code",
   "execution_count": 74,
   "id": "c1160463",
   "metadata": {},
   "outputs": [
    {
     "name": "stdout",
     "output_type": "stream",
     "text": [
      "quelle est votre prix : 150\n",
      "vous avez une remise de : 30.0\n"
     ]
    }
   ],
   "source": [
    "#écrire un programme qui actualise un prix en fonction de la moyenne\n",
    "p = int(input(\"quelle est votre prix : \"))\n",
    "r = (p*0.5)\n",
    "if p >= 500 :\n",
    "    print(\"vous avez une remise de :\", r)\n",
    "q = (p*0.3)\n",
    "if p in range (200,501) :\n",
    "    print(\"vous avez une remise de :\", q)\n",
    "c = (p*0.2)\n",
    "if p < 200 :\n",
    "    print(\"vous avez une remise de :\", c)\n",
    "\n",
    "    "
   ]
  },
  {
   "cell_type": "code",
   "execution_count": null,
   "id": "c755bfdb",
   "metadata": {},
   "outputs": [],
   "source": []
  }
 ],
 "metadata": {
  "kernelspec": {
   "display_name": "Python 3 (ipykernel)",
   "language": "python",
   "name": "python3"
  },
  "language_info": {
   "codemirror_mode": {
    "name": "ipython",
    "version": 3
   },
   "file_extension": ".py",
   "mimetype": "text/x-python",
   "name": "python",
   "nbconvert_exporter": "python",
   "pygments_lexer": "ipython3",
   "version": "3.9.7"
  }
 },
 "nbformat": 4,
 "nbformat_minor": 5
}
