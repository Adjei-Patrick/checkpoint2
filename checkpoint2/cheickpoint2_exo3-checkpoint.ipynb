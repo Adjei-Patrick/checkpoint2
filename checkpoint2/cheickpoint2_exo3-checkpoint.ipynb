{
 "cells": [
  {
   "cell_type": "code",
   "execution_count": 16,
   "id": "43ed8e2d",
   "metadata": {},
   "outputs": [
    {
     "name": "stdout",
     "output_type": "stream",
     "text": [
      "veillez saisir un nombre entier : 10\n",
      "10 est un nombre pair\n"
     ]
    }
   ],
   "source": [
    "#obtenir un nombre pair ou impair\n",
    "n = int(input(\"veillez saisir un nombre entier : \"))\n",
    "if (n % 2 )== 0 :\n",
    "    print(n, \"est un nombre pair\")\n",
    "else :\n",
    "    print(n, \"est un nombre impair\")\n",
    "    "
   ]
  },
  {
   "cell_type": "code",
   "execution_count": null,
   "id": "6bb65700",
   "metadata": {},
   "outputs": [],
   "source": []
  }
 ],
 "metadata": {
  "kernelspec": {
   "display_name": "Python 3 (ipykernel)",
   "language": "python",
   "name": "python3"
  },
  "language_info": {
   "codemirror_mode": {
    "name": "ipython",
    "version": 3
   },
   "file_extension": ".py",
   "mimetype": "text/x-python",
   "name": "python",
   "nbconvert_exporter": "python",
   "pygments_lexer": "ipython3",
   "version": "3.9.7"
  }
 },
 "nbformat": 4,
 "nbformat_minor": 5
}
